{
 "cells": [
  {
   "cell_type": "code",
   "execution_count": 1,
   "id": "01f9b238",
   "metadata": {},
   "outputs": [],
   "source": [
    "import numpy as np\n",
    "import os\n",
    "import cv2\n",
    "from sklearn.model_selection import train_test_split\n",
    "from keras.utils import to_categorical\n",
    "from keras.models import Sequential\n",
    "from keras.layers import Dense, Conv2D, Flatten, Dropout, MaxPooling2D, Activation"
   ]
  },
  {
   "cell_type": "code",
   "execution_count": 2,
   "id": "9a234106",
   "metadata": {},
   "outputs": [],
   "source": [
    "# Veri yolu\n",
    "\n",
    "data_path = \"cat_v1/\"\n",
    "classes = {\"bengal\": 0, \"domestic_shorthair\": 1,\"maine_coon\":2,\"ragdoll\":3 ,\"siamese\":4}\n",
    "num_classes = len(classes)"
   ]
  },
  {
   "cell_type": "code",
   "execution_count": 3,
   "id": "1a681e4b",
   "metadata": {},
   "outputs": [],
   "source": [
    "\n",
    "# Resim boyutu\n",
    "img_size = 64"
   ]
  },
  {
   "cell_type": "code",
   "execution_count": 4,
   "id": "afedb6cc",
   "metadata": {},
   "outputs": [],
   "source": [
    "# Veri ve etiket listeleri\n",
    "data = []\n",
    "labels = []"
   ]
  },
  {
   "cell_type": "code",
   "execution_count": 5,
   "id": "cdb52747",
   "metadata": {},
   "outputs": [],
   "source": [
    "# Resimleri ve etiketleri listele\n",
    "\n",
    "for folder, cl in classes.items():\n",
    "    folder_path = os.path.join(data_path, folder)\n",
    "    for img_name in os.listdir(folder_path):\n",
    "        img_path = os.path.join(folder_path, img_name).encode('utf-8')\n",
    "        img = cv2.imread(img_path.decode('utf-8'))\n",
    "        if img is not None:\n",
    "            img = cv2.resize(img, (img_size, img_size))\n",
    "            data.append(img)\n",
    "            labels.append(cl)"
   ]
  },
  {
   "cell_type": "code",
   "execution_count": 6,
   "id": "aa49e49a",
   "metadata": {},
   "outputs": [],
   "source": [
    "# Verileri ve etiketleri numpy dizisine dönüştür\n",
    "data = np.array(data)\n",
    "labels = np.array(labels)\n"
   ]
  },
  {
   "cell_type": "code",
   "execution_count": 7,
   "id": "085ea9e1",
   "metadata": {},
   "outputs": [],
   "source": [
    "# Verileri eğitim ve test setleri olarak ayı\n",
    "train_data, test_data, train_labels, test_labels = train_test_split(data, labels, test_size=0.3, random_state=20)"
   ]
  },
  {
   "cell_type": "code",
   "execution_count": 8,
   "id": "e3554cff",
   "metadata": {},
   "outputs": [],
   "source": [
    "# Etiketleri ikili sınıf matrisine dönüştür\n",
    "train_labels = to_categorical(train_labels)\n",
    "test_labels = to_categorical(test_labels)\n"
   ]
  },
  {
   "cell_type": "code",
   "execution_count": 9,
   "id": "4de57307",
   "metadata": {},
   "outputs": [],
   "source": [
    "# Model oluşturma\n",
    "\n",
    "model = Sequential()\n",
    "model.add(Conv2D(32, kernel_size=(3, 3), activation='relu', input_shape=(img_size, img_size, 3)))\n",
    "model.add(Dropout(0.25))\n",
    "model.add(Conv2D(64, kernel_size=(3, 3)))\n",
    "model.add(Activation('relu'))\n",
    "model.add(Dropout(0.25))\n",
    "model.add(MaxPooling2D(pool_size=(2, 2)))\n",
    "model.add(Flatten())\n",
    "model.add(Dense(num_classes, activation='softmax'))\n"
   ]
  },
  {
   "cell_type": "code",
   "execution_count": 10,
   "id": "54bda81a",
   "metadata": {},
   "outputs": [],
   "source": [
    "# Model derleme\n",
    "model.compile(loss='categorical_crossentropy', optimizer='adam', metrics=['accuracy'])"
   ]
  },
  {
   "cell_type": "code",
   "execution_count": 11,
   "id": "d0a14ae3",
   "metadata": {},
   "outputs": [
    {
     "name": "stdout",
     "output_type": "stream",
     "text": [
      "Epoch 1/10\n",
      "21/21 [==============================] - 4s 168ms/step - loss: 288.5819 - accuracy: 0.1979 - val_loss: 1.6647 - val_accuracy: 0.2483\n",
      "Epoch 2/10\n",
      "21/21 [==============================] - 3s 162ms/step - loss: 1.6459 - accuracy: 0.2999 - val_loss: 1.6077 - val_accuracy: 0.1608\n",
      "Epoch 3/10\n",
      "21/21 [==============================] - 3s 159ms/step - loss: 1.4815 - accuracy: 0.3178 - val_loss: 1.5913 - val_accuracy: 0.2727\n",
      "Epoch 4/10\n",
      "21/21 [==============================] - 3s 159ms/step - loss: 1.2901 - accuracy: 0.4423 - val_loss: 1.6179 - val_accuracy: 0.2657\n",
      "Epoch 5/10\n",
      "21/21 [==============================] - 3s 159ms/step - loss: 1.0436 - accuracy: 0.5847 - val_loss: 1.6437 - val_accuracy: 0.2552\n",
      "Epoch 6/10\n",
      "21/21 [==============================] - 3s 159ms/step - loss: 0.7873 - accuracy: 0.6717 - val_loss: 1.9594 - val_accuracy: 0.2762\n",
      "Epoch 7/10\n",
      "21/21 [==============================] - 3s 158ms/step - loss: 0.6045 - accuracy: 0.7676 - val_loss: 2.0485 - val_accuracy: 0.3182\n",
      "Epoch 8/10\n",
      "21/21 [==============================] - 3s 159ms/step - loss: 0.5097 - accuracy: 0.7991 - val_loss: 2.4067 - val_accuracy: 0.3287\n",
      "Epoch 9/10\n",
      "21/21 [==============================] - 3s 162ms/step - loss: 0.3537 - accuracy: 0.8531 - val_loss: 3.0494 - val_accuracy: 0.2762\n",
      "Epoch 10/10\n",
      "21/21 [==============================] - 3s 160ms/step - loss: 0.3405 - accuracy: 0.8756 - val_loss: 2.8706 - val_accuracy: 0.3042\n"
     ]
    },
    {
     "data": {
      "text/plain": [
       "<keras.callbacks.History at 0x236e8223df0>"
      ]
     },
     "execution_count": 11,
     "metadata": {},
     "output_type": "execute_result"
    }
   ],
   "source": [
    "# Model eğitimi\n",
    "model.fit(train_data, train_labels, batch_size=32, epochs=10, verbose=1, validation_data=(test_data, test_labels), use_multiprocessing=True, workers=8)"
   ]
  },
  {
   "cell_type": "code",
   "execution_count": 12,
   "id": "0ddf1012",
   "metadata": {},
   "outputs": [
    {
     "name": "stdout",
     "output_type": "stream",
     "text": [
      "Test loss: 2.8706233501434326\n",
      "Test accuracy: 0.3041957914829254\n"
     ]
    }
   ],
   "source": [
    "# Model değerlendirme\n",
    "\n",
    "score = model.evaluate(test_data, test_labels, verbose=0)\n",
    "\n",
    "print('Test loss:', score[0])\n",
    "\n",
    "print('Test accuracy:', score[1])\n",
    "\n",
    "model = Sequential()"
   ]
  },
  {
   "cell_type": "code",
   "execution_count": 13,
   "id": "4106b578",
   "metadata": {},
   "outputs": [],
   "source": [
    "# 32 filtreli, 3x3 çekirdek boyutlu, relu aktivasyon fonksiyonlu ve giriş şekli (resim_yükseklik, resim_genişlik, renk_kanalları) olan bir evrişim katmanı ekle.\n",
    "model.add(Conv2D(32, (3, 3), activation='relu', input_shape=(img_size, img_size, 3)))\n"
   ]
  },
  {
   "cell_type": "code",
   "execution_count": 14,
   "id": "a95e9596",
   "metadata": {},
   "outputs": [],
   "source": [
    "# 2x2 havuz boyutlu bir maksimum havuzlama katmanı ekle.\n",
    "model.add(MaxPooling2D(pool_size=(2, 2)))"
   ]
  },
  {
   "cell_type": "code",
   "execution_count": 15,
   "id": "82afaae4",
   "metadata": {},
   "outputs": [],
   "source": [
    "#64 filtreli ve 3x3 çekirdek boyutlu başka bir evrişim katmanı ekle.\n",
    "model.add(Conv2D(64, (3, 3), activation='relu'))\n"
   ]
  },
  {
   "cell_type": "code",
   "execution_count": 16,
   "id": "b5b4eda2",
   "metadata": {},
   "outputs": [],
   "source": [
    "# 2x2 boyutunda bir maksimum havuzlama katmanı ekle.\n",
    "model.add(MaxPooling2D(pool_size=(2, 2)))"
   ]
  },
  {
   "cell_type": "code",
   "execution_count": 17,
   "id": "fe57f60a",
   "metadata": {},
   "outputs": [],
   "source": [
    "\n",
    "# Önceki katmanın çıktısını düzleştirin.\n",
    "model.add(Flatten())\n"
   ]
  },
  {
   "cell_type": "code",
   "execution_count": 18,
   "id": "86481624",
   "metadata": {},
   "outputs": [],
   "source": [
    "# 128 nöronlu ve relu aktivasyon fonksiyonlu tam bağlı bir katman ekle.\n",
    "model.add(Dense(128, activation='relu'))"
   ]
  },
  {
   "cell_type": "code",
   "execution_count": 19,
   "id": "55725ab4",
   "metadata": {},
   "outputs": [],
   "source": [
    "\n",
    "# Son çıktı katmanı olarak, softmax aktivasyon fonksiyonu ile bir çıktı katmanı ekleyin (nöron sayısı sınıf sayısıyla eşit olmalıdır).\n",
    "model.add(Dense(num_classes, activation='softmax'))"
   ]
  },
  {
   "cell_type": "code",
   "execution_count": 20,
   "id": "2f1e30d9",
   "metadata": {},
   "outputs": [],
   "source": [
    "#Modeli kategorik çapraz entropi kaybı fonksiyonu ve adam optimizer ile derleyin.\n",
    "model.compile(loss='categorical_crossentropy', optimizer='adam', metrics=['accuracy'])"
   ]
  },
  {
   "cell_type": "code",
   "execution_count": 21,
   "id": "88f2e212",
   "metadata": {},
   "outputs": [
    {
     "name": "stdout",
     "output_type": "stream",
     "text": [
      "Epoch 1/10\n",
      "21/21 [==============================] - 2s 63ms/step - loss: 35.7546 - accuracy: 0.1904 - val_loss: 1.6306 - val_accuracy: 0.2133\n",
      "Epoch 2/10\n",
      "21/21 [==============================] - 1s 59ms/step - loss: 1.5179 - accuracy: 0.3613 - val_loss: 1.5884 - val_accuracy: 0.2727\n",
      "Epoch 3/10\n",
      "21/21 [==============================] - 1s 59ms/step - loss: 1.1095 - accuracy: 0.6087 - val_loss: 1.6332 - val_accuracy: 0.3147\n",
      "Epoch 4/10\n",
      "21/21 [==============================] - 1s 60ms/step - loss: 0.5520 - accuracy: 0.8321 - val_loss: 2.2061 - val_accuracy: 0.2727\n",
      "Epoch 5/10\n",
      "21/21 [==============================] - 1s 60ms/step - loss: 0.2336 - accuracy: 0.9265 - val_loss: 2.2041 - val_accuracy: 0.3392\n",
      "Epoch 6/10\n",
      "21/21 [==============================] - 1s 61ms/step - loss: 0.1134 - accuracy: 0.9745 - val_loss: 3.2772 - val_accuracy: 0.3182\n",
      "Epoch 7/10\n",
      "21/21 [==============================] - 1s 60ms/step - loss: 0.0527 - accuracy: 0.9910 - val_loss: 3.4412 - val_accuracy: 0.3392\n",
      "Epoch 8/10\n",
      "21/21 [==============================] - 1s 60ms/step - loss: 0.0399 - accuracy: 0.9910 - val_loss: 3.1897 - val_accuracy: 0.3217\n",
      "Epoch 9/10\n",
      "21/21 [==============================] - 1s 61ms/step - loss: 0.0412 - accuracy: 0.9925 - val_loss: 3.4524 - val_accuracy: 0.3252\n",
      "Epoch 10/10\n",
      "21/21 [==============================] - 1s 60ms/step - loss: 0.0414 - accuracy: 0.9955 - val_loss: 3.9102 - val_accuracy: 0.3112\n"
     ]
    },
    {
     "data": {
      "text/plain": [
       "<keras.callbacks.History at 0x236ecc3ab00>"
      ]
     },
     "execution_count": 21,
     "metadata": {},
     "output_type": "execute_result"
    }
   ],
   "source": [
    "# Modeli, 32 öğe/batch boyutu ve 10 epoch ile eğitin:\n",
    "model.fit(train_data, train_labels, batch_size=32, epochs=10, verbose=1, validation_data=(test_data, test_labels), use_multiprocessing=True, workers=8)"
   ]
  },
  {
   "cell_type": "code",
   "execution_count": 22,
   "id": "9b3e9a3d",
   "metadata": {},
   "outputs": [],
   "source": [
    "\n",
    "score = model.evaluate(test_data, test_labels, verbose=0)"
   ]
  },
  {
   "cell_type": "code",
   "execution_count": 23,
   "id": "6414225b",
   "metadata": {},
   "outputs": [
    {
     "name": "stdout",
     "output_type": "stream",
     "text": [
      "Test loss: 3.9102020263671875\n"
     ]
    }
   ],
   "source": [
    "print('Test loss:', score[0])"
   ]
  },
  {
   "cell_type": "code",
   "execution_count": 35,
   "id": "66421491",
   "metadata": {},
   "outputs": [
    {
     "name": "stdout",
     "output_type": "stream",
     "text": [
      "Test accuracy: 0.30069929361343384\n"
     ]
    }
   ],
   "source": [
    "\n",
    "print('Test accuracy:', score[1])"
   ]
  },
  {
   "cell_type": "code",
   "execution_count": null,
   "id": "24c556ed",
   "metadata": {},
   "outputs": [],
   "source": []
  }
 ],
 "metadata": {
  "kernelspec": {
   "display_name": "Python 3 (ipykernel)",
   "language": "python",
   "name": "python3"
  },
  "language_info": {
   "codemirror_mode": {
    "name": "ipython",
    "version": 3
   },
   "file_extension": ".py",
   "mimetype": "text/x-python",
   "name": "python",
   "nbconvert_exporter": "python",
   "pygments_lexer": "ipython3",
   "version": "3.10.9"
  }
 },
 "nbformat": 4,
 "nbformat_minor": 5
}
